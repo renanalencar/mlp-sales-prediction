{
 "cells": [
  {
   "cell_type": "code",
   "execution_count": null,
   "metadata": {},
   "outputs": [],
   "source": [
    "import streamlit as st\n",
    "import pandas as pd\n",
    "import matplotlib.pyplot as plt\n",
    "from sklearn.model_selection import train_test_split\n",
    "from sklearn.preprocessing import MinMaxScaler\n",
    "from sklearn.neural_network import MLPRegressor\n",
    "from sklearn.metrics import mean_absolute_error\n",
    "from tensorflow.keras.models import Sequential\n",
    "from tensorflow.keras.layers import LSTM, Dense\n",
    "import numpy as np"
   ]
  },
  {
   "cell_type": "code",
   "execution_count": null,
   "metadata": {},
   "outputs": [],
   "source": [
    "# Load and preprocess your data\n",
    "sales_data_path = \"data\\supermarket_sales.csv\"  # Update with your actual path\n",
    "sales_data = pd.read_csv(sales_data_path)\n",
    "sales_data[\"Date\"] = pd.to_datetime(sales_data[\"Date\"], format=\"%m/%d/%Y\")"
   ]
  },
  {
   "cell_type": "code",
   "execution_count": null,
   "metadata": {},
   "outputs": [],
   "source": [
    "# Group by branch and date, and aggregate the total sales\n",
    "branch_sales = (\n",
    "    sales_data.groupby([\"Branch\", \"Date\"]).agg({\"Total\": \"sum\"}).reset_index()\n",
    ")"
   ]
  },
  {
   "cell_type": "code",
   "execution_count": null,
   "metadata": {},
   "outputs": [],
   "source": [
    "# Streamlit app title\n",
    "st.title(\"Daily Sales Prediction Dashboard\")"
   ]
  },
  {
   "cell_type": "code",
   "execution_count": null,
   "metadata": {},
   "outputs": [],
   "source": [
    "# Display data grid\n",
    "st.write(\"### Daily Sales Data\")\n",
    "st.dataframe(branch_sales)"
   ]
  },
  {
   "cell_type": "code",
   "execution_count": null,
   "metadata": {},
   "outputs": [],
   "source": [
    "# Plot sales trends for each branch\n",
    "def plot_sales_trends():\n",
    "    plt.figure(figsize=(12, 6))\n",
    "    branches = branch_sales[\"Branch\"].unique()\n",
    "    for branch in branches:\n",
    "        branch_data = branch_sales[branch_sales[\"Branch\"] == branch]\n",
    "        plt.plot(branch_data[\"Date\"], branch_data[\"Total\"], label=f\"Branch {branch}\")\n",
    "\n",
    "    plt.title(\"Daily Sales Trends for Each Branch\")\n",
    "    plt.xlabel(\"Date\")\n",
    "    plt.ylabel(\"Total Sales\")\n",
    "    plt.legend()\n",
    "    plt.xticks(rotation=45)\n",
    "    plt.tight_layout()\n",
    "    st.pyplot(plt)"
   ]
  },
  {
   "cell_type": "code",
   "execution_count": null,
   "metadata": {},
   "outputs": [],
   "source": [
    "st.write(\"### Daily Sales Trends\")\n",
    "plot_sales_trends()"
   ]
  },
  {
   "cell_type": "code",
   "execution_count": null,
   "metadata": {},
   "outputs": [],
   "source": [
    "# Create a function to handle the model predictions\n",
    "def create_branch_data(branch_data):\n",
    "    for lag in range(1, 8):\n",
    "        branch_data[f\"lag_{lag}\"] = branch_data[\"Total\"].shift(lag)\n",
    "    branch_data = branch_data.dropna()\n",
    "\n",
    "    X = branch_data[[f\"lag_{i}\" for i in range(1, 8)]]\n",
    "    y = branch_data[\"Total\"]\n",
    "    return X, y"
   ]
  },
  {
   "cell_type": "code",
   "execution_count": null,
   "metadata": {},
   "outputs": [],
   "source": [
    "def mlp_model(branch, days_to_predict):\n",
    "    branch_data = branch_sales[branch_sales[\"Branch\"] == branch].copy()\n",
    "    X, y = create_branch_data(branch_data)\n",
    "\n",
    "    X_train, X_test, y_train, y_test = train_test_split(\n",
    "        X, y, test_size=0.2, shuffle=False\n",
    "    )\n",
    "\n",
    "    scaler = MinMaxScaler()\n",
    "    X_train_scaled = scaler.fit_transform(X_train)\n",
    "    X_test_scaled = scaler.transform(X_test)\n",
    "\n",
    "    mlp_model = MLPRegressor(\n",
    "        hidden_layer_sizes=(100, 100), max_iter=1000, random_state=42\n",
    "    )\n",
    "    mlp_model.fit(X_train_scaled, y_train)\n",
    "\n",
    "    predictions = mlp_model.predict(X_test_scaled[:days_to_predict])\n",
    "\n",
    "    # Calculate MAE and Accuracy\n",
    "    mae = mean_absolute_error(y_test[:days_to_predict], predictions)\n",
    "    accuracy = 100 - (mae / y_test[:days_to_predict].mean() * 100)\n",
    "\n",
    "    return predictions, mae, accuracy"
   ]
  },
  {
   "cell_type": "code",
   "execution_count": null,
   "metadata": {},
   "outputs": [],
   "source": [
    "def lstm_model(branch, days_to_predict):\n",
    "    branch_data = branch_sales[branch_sales[\"Branch\"] == branch].copy()\n",
    "    for lag in range(1, 8):\n",
    "        branch_data[f\"lag_{lag}\"] = branch_data[\"Total\"].shift(lag)\n",
    "    branch_data = branch_data.dropna()\n",
    "\n",
    "    X = branch_data[[f\"lag_{i}\" for i in range(1, 8)]]\n",
    "    y = branch_data[\"Total\"]\n",
    "\n",
    "    X_train, X_test, y_train, y_test = train_test_split(\n",
    "        X, y, test_size=0.2, shuffle=False\n",
    "    )\n",
    "\n",
    "    scaler = MinMaxScaler()\n",
    "    X_train_scaled = scaler.fit_transform(X_train)\n",
    "    X_test_scaled = scaler.transform(X_test)\n",
    "\n",
    "    X_train_lstm = X_train_scaled.reshape((X_train_scaled.shape[0], 7, 1))\n",
    "    X_test_lstm = X_test_scaled.reshape((X_test_scaled.shape[0], 7, 1))\n",
    "\n",
    "    lstm_model = Sequential()\n",
    "    lstm_model.add(LSTM(50, activation=\"relu\", input_shape=(7, 1)))\n",
    "    lstm_model.add(Dense(1))\n",
    "\n",
    "    lstm_model.compile(optimizer=\"adam\", loss=\"mean_squared_error\")\n",
    "    lstm_model.fit(X_train_lstm, y_train, epochs=100, batch_size=32, verbose=0)\n",
    "\n",
    "    predictions = lstm_model.predict(X_test_lstm[:days_to_predict])\n",
    "    # Calculate MAE and Accuracy\n",
    "    mae = mean_absolute_error(y_test[:days_to_predict], predictions)\n",
    "    accuracy = 100 - (mae / y_test[:days_to_predict].mean() * 100)\n",
    "\n",
    "    return predictions.flatten(), mae, accuracy"
   ]
  },
  {
   "cell_type": "code",
   "execution_count": null,
   "metadata": {},
   "outputs": [],
   "source": [
    "st.write(\"### Time Series Prediction\")"
   ]
  },
  {
   "cell_type": "code",
   "execution_count": null,
   "metadata": {},
   "outputs": [],
   "source": [
    "# Radio buttons to choose model (MLP or LSTM)\n",
    "model_choice = st.radio(\"Choose a model\", (\"MLP\", \"LSTM\"))"
   ]
  },
  {
   "cell_type": "code",
   "execution_count": null,
   "metadata": {},
   "outputs": [],
   "source": [
    "# Radio buttons to choose branch (A, B, or C)\n",
    "branch_choice = st.radio(\"Choose a branch\", (\"A\", \"B\", \"C\"))"
   ]
  },
  {
   "cell_type": "code",
   "execution_count": null,
   "metadata": {},
   "outputs": [],
   "source": [
    "# Text input to choose how many days to predict (up to 7)\n",
    "days_to_predict = st.slider(\n",
    "    \"How many days ahead do you want to predict?\", min_value=1, \n",
    "    max_value=7, value=3)"
   ]
  },
  {
   "cell_type": "code",
   "execution_count": null,
   "metadata": {},
   "outputs": [],
   "source": [
    "# Predict button\n",
    "if st.button(\"Predict Daily Sales\"):\n",
    "    if model_choice == \"MLP\":\n",
    "        predictions, mae, accuracy = mlp_model(branch_choice, days_to_predict)\n",
    "    else:\n",
    "        predictions, mae, accuracy = lstm_model(branch_choice, days_to_predict)\n",
    "\n",
    "    st.write(f\"### Predictions for Branch {branch_choice}:\")\n",
    "    st.write(predictions)\n",
    "\n",
    "    st.write(f\"Mean Average Error (MAE): {mae:.2f}\")\n",
    "    st.write(f\"Accuracy: {accuracy:.2f}%\")"
   ]
  }
 ],
 "metadata": {
  "kernelspec": {
   "display_name": ".venv",
   "language": "python",
   "name": "python3"
  },
  "language_info": {
   "name": "python",
   "version": "3.11.9"
  }
 },
 "nbformat": 4,
 "nbformat_minor": 2
}
