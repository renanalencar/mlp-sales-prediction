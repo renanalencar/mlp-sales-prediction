{
 "cells": [
  {
   "cell_type": "code",
   "execution_count": 1,
   "metadata": {},
   "outputs": [],
   "source": [
    "import pandas as pd\n",
    "from sklearn.model_selection import train_test_split\n",
    "from sklearn.preprocessing import MinMaxScaler\n",
    "from sklearn.neural_network import MLPRegressor\n",
    "from sklearn.metrics import mean_absolute_error"
   ]
  },
  {
   "cell_type": "code",
   "execution_count": 5,
   "metadata": {},
   "outputs": [],
   "source": [
    "# Load and preprocess your data\n",
    "sales_data_path = '../data/supermarket_sales.csv'  # Update with your actual path\n",
    "sales_data = pd.read_csv(sales_data_path)\n",
    "sales_data['Date'] = pd.to_datetime(sales_data['Date'], format='%m/%d/%Y')"
   ]
  },
  {
   "cell_type": "code",
   "execution_count": 6,
   "metadata": {},
   "outputs": [],
   "source": [
    "# Group by branch and date, and aggregate the total sales\n",
    "branch_sales = sales_data.groupby(['Branch', 'Date']).agg({'Total': 'sum'}).reset_index()"
   ]
  },
  {
   "cell_type": "code",
   "execution_count": 7,
   "metadata": {},
   "outputs": [],
   "source": [
    "# Function to create lag features and train/test sets for each branch\n",
    "def create_branch_data(branch_data):\n",
    "    for lag in range(1, 8):\n",
    "        branch_data[f'lag_{lag}'] = branch_data['Total'].shift(lag)\n",
    "    branch_data = branch_data.dropna()\n",
    "\n",
    "    X = branch_data[[f'lag_{i}' for i in range(1, 8)]]\n",
    "    y = branch_data['Total']\n",
    "    return X, y"
   ]
  },
  {
   "cell_type": "code",
   "execution_count": 8,
   "metadata": {},
   "outputs": [],
   "source": [
    "# Separate data by branch\n",
    "branches = ['A', 'B', 'C']\n",
    "mlp_predictions = {}\n",
    "mae_results = {}\n",
    "accuracy_results = {}"
   ]
  },
  {
   "cell_type": "code",
   "execution_count": 9,
   "metadata": {},
   "outputs": [
    {
     "name": "stderr",
     "output_type": "stream",
     "text": [
      "c:\\Users\\renan\\source\\repos\\mlp-sales-prediction\\.venv\\Lib\\site-packages\\sklearn\\neural_network\\_multilayer_perceptron.py:690: ConvergenceWarning: Stochastic Optimizer: Maximum iterations (1000) reached and the optimization hasn't converged yet.\n",
      "  warnings.warn(\n",
      "c:\\Users\\renan\\source\\repos\\mlp-sales-prediction\\.venv\\Lib\\site-packages\\sklearn\\neural_network\\_multilayer_perceptron.py:690: ConvergenceWarning: Stochastic Optimizer: Maximum iterations (1000) reached and the optimization hasn't converged yet.\n",
      "  warnings.warn(\n",
      "c:\\Users\\renan\\source\\repos\\mlp-sales-prediction\\.venv\\Lib\\site-packages\\sklearn\\neural_network\\_multilayer_perceptron.py:690: ConvergenceWarning: Stochastic Optimizer: Maximum iterations (1000) reached and the optimization hasn't converged yet.\n",
      "  warnings.warn(\n"
     ]
    }
   ],
   "source": [
    "for branch in branches:\n",
    "    branch_data = branch_sales[branch_sales['Branch'] == branch].copy()\n",
    "    X, y = create_branch_data(branch_data)\n",
    "    \n",
    "    # Split data into training and testing sets\n",
    "    X_train, X_test, y_train, y_test = train_test_split(X, y, test_size=0.2, shuffle=False)\n",
    "    \n",
    "    # Normalize the data\n",
    "    scaler = MinMaxScaler()\n",
    "    X_train_scaled = scaler.fit_transform(X_train)\n",
    "    X_test_scaled = scaler.transform(X_test)\n",
    "\n",
    "    # Train the MLP model\n",
    "    mlp_model = MLPRegressor(hidden_layer_sizes=(100, 100), max_iter=1000, random_state=42)\n",
    "    mlp_model.fit(X_train_scaled, y_train)\n",
    "\n",
    "    # Predict the next 7 sales\n",
    "    predictions = mlp_model.predict(X_test_scaled[:7])\n",
    "\n",
    "    # Calculate MAE and Accuracy\n",
    "    mae = mean_absolute_error(y_test[:7], predictions)\n",
    "    accuracy = 100 - (mae / y_test[:7].mean() * 100)\n",
    "\n",
    "    # Store results\n",
    "    mlp_predictions[branch] = predictions\n",
    "    mae_results[branch] = mae\n",
    "    accuracy_results[branch] = accuracy"
   ]
  },
  {
   "cell_type": "code",
   "execution_count": 10,
   "metadata": {},
   "outputs": [
    {
     "name": "stdout",
     "output_type": "stream",
     "text": [
      "Branch A: [1398.24791205 1300.97848998 1422.23891774 1007.93877099 1160.73591644\n",
      " 1158.72356139  959.45151597] MAE: 633.1510805367004 Accuracy: 51.961295920893875%\n",
      "Branch B: [1108.31033991 1289.83546976 1195.19592629 1331.964008   1258.72586571\n",
      "  976.01183082 1091.21418871] MAE: 709.2004696765441 Accuracy: 17.057815099801417%\n",
      "Branch C: [1074.12258015 1225.6944691  1284.08805733 1598.10833739 1239.35260262\n",
      " 1402.44154669 1139.14599079] MAE: 1059.6072377548237 Accuracy: 27.363017378682216%\n"
     ]
    }
   ],
   "source": [
    "# Display results\n",
    "for branch in branches:\n",
    "    print(f\"Branch {branch}: {mlp_predictions[branch]} MAE: {mae_results[branch]} Accuracy: {accuracy_results[branch]}%\")"
   ]
  }
 ],
 "metadata": {
  "kernelspec": {
   "display_name": ".venv",
   "language": "python",
   "name": "python3"
  },
  "language_info": {
   "codemirror_mode": {
    "name": "ipython",
    "version": 3
   },
   "file_extension": ".py",
   "mimetype": "text/x-python",
   "name": "python",
   "nbconvert_exporter": "python",
   "pygments_lexer": "ipython3",
   "version": "3.11.9"
  }
 },
 "nbformat": 4,
 "nbformat_minor": 2
}
